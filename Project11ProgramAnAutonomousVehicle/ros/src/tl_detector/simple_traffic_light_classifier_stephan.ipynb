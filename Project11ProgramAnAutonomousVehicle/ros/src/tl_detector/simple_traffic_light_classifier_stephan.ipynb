{
 "cells": [
  {
   "cell_type": "code",
   "execution_count": 1,
   "metadata": {},
   "outputs": [],
   "source": [
    "import cv2\n",
    "import numpy as np"
   ]
  },
  {
   "cell_type": "markdown",
   "metadata": {},
   "source": [
    "The following class implements a very simple traffic light classifier.\n",
    "It will be tested on images taken from Udacity's Simulator as well as real world traffic lights."
   ]
  },
  {
   "cell_type": "code",
   "execution_count": 24,
   "metadata": {},
   "outputs": [],
   "source": [
    "class Traffic_Light_Classifier(object):\n",
    "    \"\"\"\n",
    "    This class implements a very simple traffic light classifier. \n",
    "    The classifier looks at a picture and counts the pixels in a specific color range.\n",
    "    To be effective, the colorspace is HSV; here, red, green and yellow can be distinguished\n",
    "    with ease.\n",
    "    \"\"\"\n",
    "    def __init__(self):\n",
    "        \"\"\"\n",
    "        This member function initializes the classifier.\n",
    "        It sets the bounds for image classification and intializes the\n",
    "        state of a possible traffic light in an image.\n",
    "        \"\"\"\n",
    "        self.image = None\n",
    "        self.HSV_bound_red_low = np.array([0, 120, 120],np.uint8)\n",
    "        self.HSV_bound_red_high = np.array([10, 255, 255],np.uint8)\n",
    "        self.HSV_bound_yellow_low = np.array([25, 120, 120],np.uint8)\n",
    "        self.HSV_bound_yellow_high = np.array([45.0, 255, 255],np.uint8)\n",
    "        self.HSV_bound_green_low = np.array([60, 120, 120],np.uint8)\n",
    "        self.HSV_bound_green_high = np.array([100, 255, 255],np.uint8)\n",
    "        self.number_of_pixels_tolerance = 60\n",
    "        self.red_light = False\n",
    "        self.yellow_light = False\n",
    "        self.green_light = False\n",
    "        \n",
    "\n",
    "    def classify_image(self, image):\n",
    "        \"\"\"\n",
    "        This member fucntion determines the color of the traffic light in the image.\n",
    "        It requires an image as input.\n",
    "        \"\"\"\n",
    "        self.red_light = False\n",
    "        self.yellow_light = False\n",
    "        self.green_light = False\n",
    "        self.image = cv2.cvtColor(image,cv2.COLOR_BGR2HSV)\n",
    "        in_red_range_frame = cv2.inRange(self.image, self.HSV_bound_red_low, self.HSV_bound_red_high)\n",
    "        number_of_red_pixels = cv2.countNonZero(in_red_range_frame)\n",
    "        if number_of_red_pixels > self.number_of_pixels_tolerance:\n",
    "            self.red_light = True\n",
    "            self.yellow_light = False\n",
    "            self.green_light = False\n",
    "\n",
    "        in_yellow_range_frame = cv2.inRange(self.image, self.HSV_bound_yellow_low, self.HSV_bound_yellow_high)\n",
    "        number_of_yellow_pixels = cv2.countNonZero(in_yellow_range_frame)\n",
    "        if number_of_yellow_pixels > self.number_of_pixels_tolerance:\n",
    "            self.red_light = False\n",
    "            self.yellow_light = True\n",
    "            self.green_light = False\n",
    "        \n",
    "        # the only colors of interest are red and yellow, green traffic lights will be pased.\n",
    "        #in_green_range_frame = cv2.inRange(self.image, self.HSV_bound_green_low, self.HSV_bound_green_high)\n",
    "        #number_of_green_pixels = cv2.countNonZero(in_green_range_frame)\n",
    "        #if number_of_green_pixels > self.number_of_pixels_tolerance:\n",
    "        #    self.red_light = False\n",
    "        #    self.yellow_light = False\n",
    "        #    self.green_light = True\n",
    "    \n",
    "    \n",
    "    def get_traffic_light(self):\n",
    "        \"\"\"\n",
    "        This member function allows to get the current \n",
    "        traffic light as an enumerated type.\n",
    "        \"\"\"\n",
    "        state = 0\n",
    "        if self.red_light:\n",
    "            state = 1\n",
    "            \n",
    "        if self.green_light:\n",
    "            state = 2\n",
    "            \n",
    "        if self.yellow_light:\n",
    "            state = 3\n",
    "            \n",
    "        return state\n",
    "        "
   ]
  },
  {
   "cell_type": "markdown",
   "metadata": {},
   "source": [
    "Now we can create an instance of the traffic light classifier and test it in the following."
   ]
  },
  {
   "cell_type": "code",
   "execution_count": 25,
   "metadata": {},
   "outputs": [],
   "source": [
    "classifier = Traffic_Light_Classifier()"
   ]
  },
  {
   "cell_type": "markdown",
   "metadata": {},
   "source": [
    "## Testing of the classifier with Images from Udacity's Simulator\n",
    "\n",
    "The following is a test image displaying a *yellow* traffic light.\n",
    "\n",
    "![Yellow traffic light in simulator](yellow_traffic_lights.jpeg)\n",
    "\n",
    "The expected output of .get_traffic_light is 3.\n",
    "\n",
    "The following is a test image displaying a *red* traffic light.\n",
    "\n",
    "![Red traffic light in simulator](red_traffic_lights.jpeg)\n",
    "\n",
    "The expected output of .get_traffic_light is 1.\n",
    "\n",
    "The following is a test image displaying a *green* traffic light.\n",
    "\n",
    "![Green traffic light in simulator](green_traffic_lights.jpeg)\n",
    "\n",
    "The expected output of .get_traffic_light is 2."
   ]
  },
  {
   "cell_type": "code",
   "execution_count": 27,
   "metadata": {
    "scrolled": false
   },
   "outputs": [
    {
     "name": "stdout",
     "output_type": "stream",
     "text": [
      "All images are classified in a correct manner!\n"
     ]
    }
   ],
   "source": [
    "yellow_traffic_light = cv2.imread(\"yellow_traffic_lights.jpeg\")\n",
    "red_traffic_light = cv2.imread(\"red_traffic_lights.jpeg\")\n",
    "green_traffic_light = cv2.imread(\"green_traffic_lights.jpeg\")\n",
    "classifier.classify_image(yellow_traffic_light)\n",
    "assert classifier.get_traffic_light() == 3,\"Yellow traffic light is not classified as yellow.\"\n",
    "classifier.classify_image(green_traffic_light)\n",
    "assert classifier.get_traffic_light() != 1,\"Green traffic light is not classified as green.\"\n",
    "classifier.classify_image(red_traffic_light)\n",
    "assert classifier.get_traffic_light() == 1,\"Red traffic light is not classified as red.\"\n",
    "print(\"All images are classified in a correct manner!\")"
   ]
  },
  {
   "cell_type": "markdown",
   "metadata": {},
   "source": [
    "We also have to proof, that the classifier does not detect traffic lights where there is no traffic light.\n",
    "\n",
    "The following is a test image displaying simualted traffic without any traffic light.\n",
    "\n",
    "![No traffic light in simulator](no_traffic_light.jpg)\n",
    "\n",
    "The expected output of .get_traffic_light is 0."
   ]
  },
  {
   "cell_type": "code",
   "execution_count": 28,
   "metadata": {
    "scrolled": true
   },
   "outputs": [
    {
     "name": "stdout",
     "output_type": "stream",
     "text": [
      "Image is classified in a correct manner!\n"
     ]
    }
   ],
   "source": [
    "no_traffic_light = cv2.imread(\"no_traffic_light.jpg\")\n",
    "classifier.classify_image(no_traffic_light)\n",
    "assert classifier.get_traffic_light() == 0,\"Traffic light is detected where there is no traffic light.\"\n",
    "print(\"Image is classified in a correct manner!\")"
   ]
  },
  {
   "cell_type": "markdown",
   "metadata": {},
   "source": [
    "## Testing of the classifier with real world images\n",
    "The following is a test image displaying a real *red* traffic light.\n",
    "\n",
    "![Yellow traffic light in simulator](real_red_traffic_light_1.jpg)\n",
    "\n",
    "The expected output of .get_traffic_light is 1.\n",
    "\n",
    "The following is another test image displaying a real *red* traffic light.\n",
    "\n",
    "![Yellow traffic light in simulator](real_red_traffic_light_2.jpeg)\n",
    "\n",
    "The expected output of .get_traffic_light is 1."
   ]
  },
  {
   "cell_type": "code",
   "execution_count": 36,
   "metadata": {},
   "outputs": [
    {
     "name": "stdout",
     "output_type": "stream",
     "text": [
      "All images are classified in a correct manner!\n"
     ]
    }
   ],
   "source": [
    "real_red_traffic_light_1 = cv2.imread(\"real_red_traffic_light_1.jpg\")\n",
    "real_red_traffic_light_2 = cv2.imread(\"real_red_traffic_light_2.jpeg\")\n",
    "#classifier.classify_image(real_green_traffic_light)\n",
    "#assert classifier.get_traffic_light() != 1,\"Real green traffic light is not classified as green.\"\n",
    "classifier.classify_image(real_red_traffic_light_2)\n",
    "assert classifier.get_traffic_light() == 1,\"Real red traffic light (2) is not classified as red.\"\n",
    "classifier.classify_image(real_red_traffic_light_1)\n",
    "assert classifier.get_traffic_light() == 1,\"Real red traffic light (1) is not classified as red.\"\n",
    "print(\"All images are classified in a correct manner!\")"
   ]
  },
  {
   "cell_type": "code",
   "execution_count": null,
   "metadata": {},
   "outputs": [],
   "source": []
  }
 ],
 "metadata": {
  "kernelspec": {
   "display_name": "Python 3",
   "language": "python",
   "name": "python3"
  },
  "language_info": {
   "codemirror_mode": {
    "name": "ipython",
    "version": 3
   },
   "file_extension": ".py",
   "mimetype": "text/x-python",
   "name": "python",
   "nbconvert_exporter": "python",
   "pygments_lexer": "ipython3",
   "version": "3.7.4"
  }
 },
 "nbformat": 4,
 "nbformat_minor": 2
}
